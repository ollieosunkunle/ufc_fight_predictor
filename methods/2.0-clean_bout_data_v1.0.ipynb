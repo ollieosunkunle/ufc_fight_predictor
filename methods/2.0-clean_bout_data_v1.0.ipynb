{
 "cells": [
  {
   "cell_type": "code",
   "execution_count": 11,
   "metadata": {},
   "outputs": [],
   "source": [
    "from sqlalchemy import create_engine\n",
    "import pandas as pd\n",
    "import numpy as np"
   ]
  },
  {
   "cell_type": "code",
   "execution_count": 13,
   "metadata": {},
   "outputs": [],
   "source": [
    "sql_con = \"sqlite:///../database/ufc_data.db\""
   ]
  },
  {
   "cell_type": "code",
   "execution_count": 14,
   "metadata": {},
   "outputs": [],
   "source": [
    "con = create_engine(sql_con)\n",
    "bout_df = pd.read_sql(\"SELECT * FROM bout_data\", con)"
   ]
  },
  {
   "cell_type": "code",
   "execution_count": 15,
   "metadata": {},
   "outputs": [],
   "source": [
    "def convert_to_float(col_name_lists):\n",
    "    for c in col_name_lists:\n",
    "        bout_df[c] = bout_df[c].replace('--',np.nan).astype('float')"
   ]
  },
  {
   "cell_type": "code",
   "execution_count": 16,
   "metadata": {},
   "outputs": [],
   "source": [
    "def convert_to_category(col_name_lists):\n",
    "    for c in col_name_lists:\n",
    "        bout_df[c] = bout_df[c].astype('category')"
   ]
  },
  {
   "cell_type": "code",
   "execution_count": 26,
   "metadata": {},
   "outputs": [],
   "source": [
    "def clean_bout_data(sql_con,bout_df):\n",
    "    #Import various useful libraries\n",
    "    import pandas as pd\n",
    "    import numpy as np\n",
    "\n",
    "    import datetime as dt\n",
    "    import matplotlib.pyplot as plt \n",
    "    import datetime\n",
    "\n",
    "    import warnings\n",
    "    warnings.filterwarnings(\"ignore\")\n",
    "    import seaborn as sns\n",
    "    \n",
    "    bout_df.attendance.replace(',','',regex=True,inplace=True)\n",
    "    \n",
    "    bout_df['attendance'] = bout_df['attendance'].astype('float32')\n",
    "    \n",
    "    bout_df = pd.concat([bout_df,bout_df.location.str.split(pat=',',n=2,expand=True)],axis=1).rename(columns={0:'city',1:'state',2:'country'})\n",
    "    bout_df.drop(columns='location',inplace=True)\n",
    "    \n",
    "    bout_df['date'] = pd.to_datetime(bout_df.date)\n",
    "    \n",
    "    round_time = bout_df.end_time.replace(':','',regex=True).astype('int32')\n",
    "    round_minutes = round_time // 100\n",
    "    round_seconds = (round_time - (round_minutes * 100))/60\n",
    "    bout_df['end_time'] = round_minutes + round_seconds\n",
    "    \n",
    "    bout_df['total_fight_time'] = ((bout_df.no_rounds-1)*5) + bout_df.end_time\n",
    "    \n",
    "    columns_to_float = ['fighter_1_strikes','fighter_1_td','fighter_1_sub','fighter_1_pass','fighter_2_strikes','fighter_2_td','fighter_2_sub','fighter_2_pass']\n",
    "    convert_to_float(columns_to_float)\n",
    "    \n",
    "    bout_df.to_sql('clean_bout_data',con,if_exists='replace',index=False)"
   ]
  },
  {
   "cell_type": "code",
   "execution_count": 27,
   "metadata": {},
   "outputs": [],
   "source": [
    "clean_bout_data(sql_con,bout_df)"
   ]
  }
 ],
 "metadata": {
  "kernelspec": {
   "display_name": "Python 3",
   "language": "python",
   "name": "python3"
  },
  "language_info": {
   "codemirror_mode": {
    "name": "ipython",
    "version": 3
   },
   "file_extension": ".py",
   "mimetype": "text/x-python",
   "name": "python",
   "nbconvert_exporter": "python",
   "pygments_lexer": "ipython3",
   "version": "3.7.7"
  }
 },
 "nbformat": 4,
 "nbformat_minor": 4
}
