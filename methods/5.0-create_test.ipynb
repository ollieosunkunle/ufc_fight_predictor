{
 "cells": [
  {
   "cell_type": "code",
   "execution_count": 1,
   "metadata": {},
   "outputs": [],
   "source": [
    "abs_path = 'C:/Users/ollieosunkunle/Google Drive/Work, career and education/Programming_data_science/UFC fight predictor/Version 2/'"
   ]
  },
  {
   "cell_type": "code",
   "execution_count": 2,
   "metadata": {},
   "outputs": [],
   "source": [
    "test_file = abs_path + \"test_data/sep_test.csv\""
   ]
  },
  {
   "cell_type": "code",
   "execution_count": 3,
   "metadata": {},
   "outputs": [
    {
     "name": "stderr",
     "output_type": "stream",
     "text": [
      "C:\\Users\\ollieosunkunle\\Anaconda3\\lib\\site-packages\\fuzzywuzzy\\fuzz.py:11: UserWarning: Using slow pure-python SequenceMatcher. Install python-Levenshtein to remove this warning\n",
      "  warnings.warn('Using slow pure-python SequenceMatcher. Install python-Levenshtein to remove this warning')\n"
     ]
    }
   ],
   "source": [
    "#Import various useful libraries\n",
    "import pandas as pd\n",
    "import numpy as np\n",
    "\n",
    "import datetime as dt\n",
    "import datetime\n",
    "\n",
    "from sqlalchemy import create_engine\n",
    "\n",
    "import matplotlib.pyplot as plt\n",
    "import seaborn as sns\n",
    "\n",
    "from fuzzywuzzy import process"
   ]
  },
  {
   "cell_type": "code",
   "execution_count": 4,
   "metadata": {},
   "outputs": [],
   "source": [
    "sql_con = \"sqlite:///../database/ufc_data.db\"\n",
    "con = create_engine(sql_con)"
   ]
  },
  {
   "cell_type": "code",
   "execution_count": 5,
   "metadata": {},
   "outputs": [],
   "source": [
    "test_df = pd.read_csv(test_file, encoding='latin-1', sep='\\t',usecols = ['fighter_1','fighter_2'])"
   ]
  },
  {
   "cell_type": "code",
   "execution_count": 6,
   "metadata": {},
   "outputs": [],
   "source": [
    "train_df = pd.read_sql(\"SELECT * FROM train_df_v3\", con)"
   ]
  },
  {
   "cell_type": "code",
   "execution_count": 7,
   "metadata": {},
   "outputs": [
    {
     "data": {
      "text/plain": [
       "'Original fighter list'"
      ]
     },
     "metadata": {},
     "output_type": "display_data"
    },
    {
     "data": {
      "text/html": [
       "<div>\n",
       "<style scoped>\n",
       "    .dataframe tbody tr th:only-of-type {\n",
       "        vertical-align: middle;\n",
       "    }\n",
       "\n",
       "    .dataframe tbody tr th {\n",
       "        vertical-align: top;\n",
       "    }\n",
       "\n",
       "    .dataframe thead th {\n",
       "        text-align: right;\n",
       "    }\n",
       "</style>\n",
       "<table border=\"1\" class=\"dataframe\">\n",
       "  <thead>\n",
       "    <tr style=\"text-align: right;\">\n",
       "      <th></th>\n",
       "      <th>fighter_1</th>\n",
       "      <th>fighter_2</th>\n",
       "    </tr>\n",
       "  </thead>\n",
       "  <tbody>\n",
       "    <tr>\n",
       "      <th>0</th>\n",
       "      <td>Michelle Waterson</td>\n",
       "      <td>Angela Hill</td>\n",
       "    </tr>\n",
       "    <tr>\n",
       "      <th>1</th>\n",
       "      <td>Ottman Azaitar</td>\n",
       "      <td>Khama Worthy</td>\n",
       "    </tr>\n",
       "    <tr>\n",
       "      <th>2</th>\n",
       "      <td>Roxanne Modafferi</td>\n",
       "      <td>Andrea Lee</td>\n",
       "    </tr>\n",
       "    <tr>\n",
       "      <th>3</th>\n",
       "      <td>Ed Herman</td>\n",
       "      <td>Mike Rodríguez</td>\n",
       "    </tr>\n",
       "    <tr>\n",
       "      <th>4</th>\n",
       "      <td>Bobby Green</td>\n",
       "      <td>Alan Patrick</td>\n",
       "    </tr>\n",
       "    <tr>\n",
       "      <th>5</th>\n",
       "      <td>Billy Quarantillo</td>\n",
       "      <td>Kyle Nelson</td>\n",
       "    </tr>\n",
       "    <tr>\n",
       "      <th>6</th>\n",
       "      <td>Sijara Eubanks</td>\n",
       "      <td>Julia Avila</td>\n",
       "    </tr>\n",
       "    <tr>\n",
       "      <th>7</th>\n",
       "      <td>Kevin Croom</td>\n",
       "      <td>Roosevelt Roberts</td>\n",
       "    </tr>\n",
       "    <tr>\n",
       "      <th>8</th>\n",
       "      <td>Alexander Romanov</td>\n",
       "      <td>Roque Martinez</td>\n",
       "    </tr>\n",
       "    <tr>\n",
       "      <th>9</th>\n",
       "      <td>Jalin Turner</td>\n",
       "      <td>Brok Weaver</td>\n",
       "    </tr>\n",
       "    <tr>\n",
       "      <th>10</th>\n",
       "      <td>Bryan Barberena</td>\n",
       "      <td>Anthony Ivy</td>\n",
       "    </tr>\n",
       "    <tr>\n",
       "      <th>11</th>\n",
       "      <td>Sabina Mazo</td>\n",
       "      <td>Justine Kish</td>\n",
       "    </tr>\n",
       "  </tbody>\n",
       "</table>\n",
       "</div>"
      ],
      "text/plain": [
       "            fighter_1          fighter_2\n",
       "0   Michelle Waterson        Angela Hill\n",
       "1      Ottman Azaitar       Khama Worthy\n",
       "2   Roxanne Modafferi         Andrea Lee\n",
       "3           Ed Herman     Mike Rodríguez\n",
       "4         Bobby Green       Alan Patrick\n",
       "5   Billy Quarantillo        Kyle Nelson\n",
       "6      Sijara Eubanks        Julia Avila\n",
       "7         Kevin Croom  Roosevelt Roberts\n",
       "8   Alexander Romanov     Roque Martinez\n",
       "9        Jalin Turner        Brok Weaver\n",
       "10    Bryan Barberena        Anthony Ivy\n",
       "11        Sabina Mazo       Justine Kish"
      ]
     },
     "metadata": {},
     "output_type": "display_data"
    },
    {
     "data": {
      "text/plain": [
       "'Final fighter list'"
      ]
     },
     "metadata": {},
     "output_type": "display_data"
    },
    {
     "data": {
      "text/html": [
       "<div>\n",
       "<style scoped>\n",
       "    .dataframe tbody tr th:only-of-type {\n",
       "        vertical-align: middle;\n",
       "    }\n",
       "\n",
       "    .dataframe tbody tr th {\n",
       "        vertical-align: top;\n",
       "    }\n",
       "\n",
       "    .dataframe thead th {\n",
       "        text-align: right;\n",
       "    }\n",
       "</style>\n",
       "<table border=\"1\" class=\"dataframe\">\n",
       "  <thead>\n",
       "    <tr style=\"text-align: right;\">\n",
       "      <th></th>\n",
       "      <th>fighter_1</th>\n",
       "      <th>fighter_2</th>\n",
       "    </tr>\n",
       "  </thead>\n",
       "  <tbody>\n",
       "    <tr>\n",
       "      <th>0</th>\n",
       "      <td>Michelle Waterson</td>\n",
       "      <td>Angela Hill</td>\n",
       "    </tr>\n",
       "    <tr>\n",
       "      <th>1</th>\n",
       "      <td>Ottman Azaitar</td>\n",
       "      <td>Khama Worthy</td>\n",
       "    </tr>\n",
       "    <tr>\n",
       "      <th>2</th>\n",
       "      <td>Roxanne Modafferi</td>\n",
       "      <td>Andrea Lee</td>\n",
       "    </tr>\n",
       "    <tr>\n",
       "      <th>3</th>\n",
       "      <td>Ed Herman</td>\n",
       "      <td>Mike Rodriguez</td>\n",
       "    </tr>\n",
       "    <tr>\n",
       "      <th>4</th>\n",
       "      <td>Bobby Green</td>\n",
       "      <td>Alan Patrick</td>\n",
       "    </tr>\n",
       "    <tr>\n",
       "      <th>5</th>\n",
       "      <td>Billy Quarantillo</td>\n",
       "      <td>Kyle Nelson</td>\n",
       "    </tr>\n",
       "    <tr>\n",
       "      <th>6</th>\n",
       "      <td>Sijara Eubanks</td>\n",
       "      <td>Julia Avila</td>\n",
       "    </tr>\n",
       "    <tr>\n",
       "      <th>9</th>\n",
       "      <td>Jalin Turner</td>\n",
       "      <td>Brok Weaver</td>\n",
       "    </tr>\n",
       "    <tr>\n",
       "      <th>10</th>\n",
       "      <td>Bryan Barberena</td>\n",
       "      <td>Anthony Ivy</td>\n",
       "    </tr>\n",
       "    <tr>\n",
       "      <th>11</th>\n",
       "      <td>Sabina Mazo</td>\n",
       "      <td>Justine Kish</td>\n",
       "    </tr>\n",
       "  </tbody>\n",
       "</table>\n",
       "</div>"
      ],
      "text/plain": [
       "            fighter_1       fighter_2\n",
       "0   Michelle Waterson     Angela Hill\n",
       "1      Ottman Azaitar    Khama Worthy\n",
       "2   Roxanne Modafferi      Andrea Lee\n",
       "3           Ed Herman  Mike Rodriguez\n",
       "4         Bobby Green    Alan Patrick\n",
       "5   Billy Quarantillo     Kyle Nelson\n",
       "6      Sijara Eubanks     Julia Avila\n",
       "9        Jalin Turner     Brok Weaver\n",
       "10    Bryan Barberena     Anthony Ivy\n",
       "11        Sabina Mazo    Justine Kish"
      ]
     },
     "metadata": {},
     "output_type": "display_data"
    }
   ],
   "source": [
    "# Find out which fighter names from test_set are missing and identify the closest matches\n",
    "display('Original fighter list',test_df)\n",
    "\n",
    "train_fighters = train_df['fighter_1'].unique() #Create a list of unique train_fighters\n",
    "test_fighters = test_df['fighter_1'].append(test_df['fighter_2']) #Create a list of unique test_fighters\n",
    "missing_fighters = test_fighters[~test_fighters.isin(train_fighters)].reset_index(drop=True) #Find the missing fighters in the test_dataset\n",
    "closest_matches = missing_fighters.apply(lambda x: process.extract(x,train_fighters,limit=1)[0])\n",
    "fighter_lu = pd.concat([missing_fighters,closest_matches],axis=1)\n",
    "fighter_lu.columns = ['original_name','new_name']\n",
    "threshold = 85 #Set the matching threshold to replace an old fighter's name with a new one\n",
    "fighter_lu['new_name'] = fighter_lu['new_name'].apply(lambda x: x[0] if x[1] > threshold else np.nan) #Set to nan names that don't meet threshold\n",
    "\n",
    "#display('Missing fighters and lookups',fighter_lu)\n",
    "\n",
    "# Replace the names in the original test dataset\n",
    "replacement_dict = fighter_lu.set_index('original_name').to_dict()['new_name']\n",
    "for f in ['fighter_1','fighter_2']:\n",
    "    test_df[f] = test_df[f].replace(replacement_dict, value=None)\n",
    "\n",
    "#display('Merged and replaced missing fighters',test_df)\n",
    "test_df = test_df.dropna()\n",
    "\n",
    "display('Final fighter list',test_df)\n",
    "test_df = test_df.reset_index(drop=True)"
   ]
  },
  {
   "cell_type": "code",
   "execution_count": 8,
   "metadata": {},
   "outputs": [],
   "source": [
    "# Define the difference dictionary (note - this is copied from the create_training_df model)\n",
    "# Subset the train_df for f1_features - dictionary keys\n",
    "# Merge f1 features to fighter_1\n",
    "# Rename the subset dataset to f2\n",
    "# Merge f2 features to fighter_2\n",
    "# Calculate the difference features"
   ]
  }
 ],
 "metadata": {
  "kernelspec": {
   "display_name": "Python 3",
   "language": "python",
   "name": "python3"
  },
  "language_info": {
   "codemirror_mode": {
    "name": "ipython",
    "version": 3
   },
   "file_extension": ".py",
   "mimetype": "text/x-python",
   "name": "python",
   "nbconvert_exporter": "python",
   "pygments_lexer": "ipython3",
   "version": "3.7.7"
  }
 },
 "nbformat": 4,
 "nbformat_minor": 4
}
