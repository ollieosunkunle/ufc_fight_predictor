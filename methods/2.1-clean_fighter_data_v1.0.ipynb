{
 "cells": [
  {
   "cell_type": "code",
   "execution_count": 1,
   "metadata": {},
   "outputs": [],
   "source": [
    "#Import various useful libraries\n",
    "import pandas as pd\n",
    "import numpy as np\n",
    "\n",
    "import datetime as dt\n",
    "import matplotlib.pyplot as plt \n",
    "import datetime\n",
    "\n",
    "import warnings\n",
    "warnings.filterwarnings(\"ignore\")\n",
    "\n",
    "import seaborn as sns\n",
    "from sqlalchemy import create_engine"
   ]
  },
  {
   "cell_type": "code",
   "execution_count": 2,
   "metadata": {},
   "outputs": [],
   "source": [
    "sql_con = \"sqlite:///../database/ufc_data.db\""
   ]
  },
  {
   "cell_type": "code",
   "execution_count": 3,
   "metadata": {},
   "outputs": [],
   "source": [
    "con = create_engine(sql_con)\n",
    "fighter_df = pd.read_sql(\"SELECT * FROM fighter_data\", con)"
   ]
  },
  {
   "cell_type": "code",
   "execution_count": 6,
   "metadata": {},
   "outputs": [],
   "source": [
    "def clean_fighter_data(sql_con,fighter_df):\n",
    "    fighter_df = fighter_df.astype({'stance':'category'})\n",
    "    fighter_df['record'] = fighter_df.record.str.replace('Record:',\"\")\n",
    "    fighter_df['record'] = fighter_df.record.str.replace(\"\\(.*\\)\",\"\",regex=True)\n",
    "    fighter_df['record'] = fighter_df.record.str.strip()\n",
    "    \n",
    "    fighter_df = pd.concat([fighter_df,fighter_df.record.str.split(\"-\",n=2,expand=True).rename(columns={0:'wins',1:'losses',2:'draws'})],axis='columns').drop(columns='record')\n",
    "    fighter_df['height'] = fighter_df.height.str.replace('\"',\"\")\n",
    "    heights = fighter_df.height.str.split(\"'\",n=1,expand=True).rename(columns={0:'feet',1:'inches'})\n",
    "    \n",
    "    heights['feet'] = heights.feet.replace('--',np.nan)\n",
    "    heights = heights.astype({'feet':'float32','inches':'float32'})\n",
    "    \n",
    "    fighter_df['height'] = ((heights.feet * 12) + heights.inches)*2.54\n",
    "    fighter_df['weight']  = fighter_df.weight.str.replace(\"lbs.\",\"\")\n",
    "    fighter_df['weight'] = fighter_df['weight'].replace('--',np.nan)\n",
    "    fighter_df['weight'] = fighter_df['weight'].astype('float32') / 2.20462\n",
    "    \n",
    "    fighter_df['reach'] = fighter_df['reach'].replace('--',np.nan)\n",
    "    fighter_df['reach'] = fighter_df['reach'].replace('\"',\"\",regex=True)\n",
    "    fighter_df['reach'] = fighter_df['reach'].astype('float32') * 2.54\n",
    "    \n",
    "    fighter_df['stance'] = fighter_df.stance.replace({'Orthodox':1,'Southpaw':10,'Switch':100,'Open Stance':1000,'Sideways':10000,\"\":1}) #Note - makes unknowns into Orthodox\n",
    "    \n",
    "    year = fighter_df.dob.str.split(\" \",n=1,expand=True)[1].str.split(\",\",expand=True)[1]\n",
    "    \n",
    "    fighter_df['dob'] = fighter_df.dob.str.split(\" \",n=1,expand=True)[1].str.split(\",\",expand=True)[1]\n",
    "    \n",
    "    fighter_df['strike_accuracy'] = fighter_df['strike_accuracy'].replace(\"%\",\"\",regex=True).astype('float32')\n",
    "    fighter_df['strike_defense'] = fighter_df['strike_defense'].replace(\"%\",\"\",regex=True).astype('float32')\n",
    "    fighter_df['takedown_accuracy'] = fighter_df['takedown_accuracy'].replace(\"%\",\"\",regex=True).astype('float32')\n",
    "    fighter_df['takedown_defense'] = fighter_df['takedown_defense'].replace(\"%\",\"\",regex=True).astype('float32')\n",
    "    \n",
    "    fighter_df = fighter_df.astype({'dob':'float32','wins':'int32','losses':'int32','draws':'int32','strikes_landed_per_min':'float','stance':'int','strikes_absorbed_per_min':'float',\n",
    "                                   'takedowns_per_15_min':'float','submission_attempts_per_15_min':'float'})\n",
    "    \n",
    "    fighter_df['total_fights'] = fighter_df.wins + fighter_df.losses + fighter_df.draws\n",
    "    \n",
    "    fighter_df['win_pct'] = fighter_df.wins / fighter_df.total_fights\n",
    "    fighter_df['loss_pct'] = fighter_df.losses / fighter_df.total_fights\n",
    "    fighter_df['draw_pct'] = fighter_df.draws / fighter_df.total_fights\n",
    "    \n",
    "    fighter_df.to_sql('clean_fighter_data',con,if_exists='replace',index=False)"
   ]
  },
  {
   "cell_type": "code",
   "execution_count": 7,
   "metadata": {},
   "outputs": [],
   "source": [
    "clean_fighter_data(sql_con,fighter_df)"
   ]
  }
 ],
 "metadata": {
  "kernelspec": {
   "display_name": "Python 3",
   "language": "python",
   "name": "python3"
  },
  "language_info": {
   "codemirror_mode": {
    "name": "ipython",
    "version": 3
   },
   "file_extension": ".py",
   "mimetype": "text/x-python",
   "name": "python",
   "nbconvert_exporter": "python",
   "pygments_lexer": "ipython3",
   "version": "3.7.7"
  }
 },
 "nbformat": 4,
 "nbformat_minor": 4
}
